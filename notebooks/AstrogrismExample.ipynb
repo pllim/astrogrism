{
 "cells": [
  {
   "cell_type": "markdown",
   "metadata": {},
   "source": [
    "## Astrogrism example notebook\n",
    "\n",
    "This notebook shows an example of using the `GrismObs` class, the core\n",
    "object of the `astrogrism` package, to transform between the available\n",
    "coordinate frames."
   ]
  },
  {
   "cell_type": "code",
   "execution_count": null,
   "metadata": {},
   "outputs": [],
   "source": [
    "# First, we import the necessary modules\n",
    "\n",
    "import pathlib\n",
    "\n",
    "import astropy.units as u\n",
    "\n",
    "from astrogrism import GrismObs"
   ]
  },
  {
   "cell_type": "markdown",
   "metadata": {},
   "source": [
    "The following cell assumes that you are running this notebook\n",
    "in place in its location in your local copy of the `astrogrism`\n",
    "repository. If you're running it in a different location, you\n",
    "will need to provide the path to the test file referenced."
   ]
  },
  {
   "cell_type": "code",
   "execution_count": null,
   "metadata": {},
   "outputs": [],
   "source": [
    "pkg_dir = pathlib.Path('.').absolute().parent\n",
    "acs_file = str(pkg_dir / 'astrogrism/tests/data/acs_test_file.fits')"
   ]
  },
  {
   "cell_type": "markdown",
   "metadata": {},
   "source": [
    "To read in a grism observation, simply provide the path to the file as the\n",
    "first argument to the `GrismObs` class:"
   ]
  },
  {
   "cell_type": "code",
   "execution_count": null,
   "metadata": {},
   "outputs": [],
   "source": [
    "grism_obs = GrismObs(acs_file)"
   ]
  },
  {
   "cell_type": "markdown",
   "metadata": {},
   "source": [
    "The main purpose of the `GrismObs` class is to provide access to the tranforms\n",
    "between the geometric frames, in order to determine e.g. where a pixel on the\n",
    "direct image would be dispersed to on the dispersed grism image for a \n",
    "given wavelength. You can see the available frames as follows:"
   ]
  },
  {
   "cell_type": "code",
   "execution_count": null,
   "metadata": {},
   "outputs": [],
   "source": [
    "grism_obs.geometric_transforms[\"CCD1\"].available_frames"
   ]
  },
  {
   "cell_type": "markdown",
   "metadata": {},
   "source": [
    "Note that the file we're using is an ACS observation, which has two CCDs and thus\n",
    "requires specifying which CCD we're interested in. To actually get the transform we\n",
    "want, we use the following command:"
   ]
  },
  {
   "cell_type": "code",
   "execution_count": null,
   "metadata": {},
   "outputs": [],
   "source": [
    "d2g = grism_obs.geometric_transforms[\"CCD1\"].get_transform(\"detector\", \"grism_detector\")"
   ]
  },
  {
   "cell_type": "markdown",
   "metadata": {},
   "source": [
    "The inputs to this function can be seen by calling the following. Note that x, y, and order are \n",
    "unitless, while `wavelength` can be specified as an astropy `Quantity` object in order to \n",
    "ensure that the units are treated properly."
   ]
  },
  {
   "cell_type": "code",
   "execution_count": null,
   "metadata": {},
   "outputs": [],
   "source": [
    "d2g.inputs"
   ]
  },
  {
   "cell_type": "markdown",
   "metadata": {},
   "source": [
    "Here we see where pixel (800, 1000) on the direct detector would be dispersed\n",
    "for the first order trace at 0.7 Angstrom."
   ]
  },
  {
   "cell_type": "code",
   "execution_count": null,
   "metadata": {},
   "outputs": [],
   "source": [
    "d2g(1024, 2048.0, 0.7*u.um, 1)"
   ]
  },
  {
   "cell_type": "markdown",
   "metadata": {},
   "source": [
    "The reverse transform takes the coordinates on both the dispersed and direct image, along\n",
    "with the order, and returns the wavelength that would be dispersed from point on the direct\n",
    "image to the specified point on the grism image."
   ]
  },
  {
   "cell_type": "code",
   "execution_count": null,
   "metadata": {},
   "outputs": [],
   "source": [
    "g2d = grism_obs.geometric_transforms[\"CCD1\"].get_transform(\"grism_detector\", \"detector\")\n",
    "g2d.inputs"
   ]
  },
  {
   "cell_type": "code",
   "execution_count": null,
   "metadata": {},
   "outputs": [],
   "source": [
    "# Note that we simply copy-paste the output of d2g for this input\n",
    "g2d(1084.130391789169, 2044.4123782198496, 1024.0, 2048.0, 1.0)"
   ]
  },
  {
   "cell_type": "markdown",
   "metadata": {},
   "source": [
    "One thing to keep in mind here is that the wavelength does not round trip exactly\n",
    "between the dispersed/non-dispersed images, and that the accuracy varies depending\n",
    "on how good the calibration fits used are at a given location on the chip. The HST\n",
    "instrument documentation has information of which regions of the chips are recommended \n",
    "for use. \n",
    "\n",
    "For completeness, we also show transforming between world (sky) coordinates and the\n",
    "direct and dispersed image frames. Note that currently, the world coordinate inputs\n",
    "must be specified as right ascension and declination in decimal degrees."
   ]
  },
  {
   "cell_type": "code",
   "execution_count": null,
   "metadata": {},
   "outputs": [],
   "source": [
    "w2d = grism_obs.geometric_transforms[\"CCD1\"].get_transform(\"world\", \"detector\")\n",
    "w2g = grism_obs.geometric_transforms[\"CCD1\"].get_transform(\"world\", \"grism_detector\")"
   ]
  },
  {
   "cell_type": "code",
   "execution_count": null,
   "metadata": {},
   "outputs": [],
   "source": [
    "w2d(264.1018298204877, -32.90801703429679, 7000*u.AA, 1.0)"
   ]
  },
  {
   "cell_type": "code",
   "execution_count": null,
   "metadata": {},
   "outputs": [],
   "source": [
    "w2g(264.1018298204877, -32.90801703429679, 7000*u.AA, 1.0)"
   ]
  },
  {
   "cell_type": "markdown",
   "metadata": {},
   "source": [
    "### Accessing the original data\n",
    "\n",
    "While the geometric transforms are the main point of the `GrismObs` class,\n",
    "you can also access the original data (as read by the `astropy.io.fits` machinery)\n",
    "through the object via the `grism_image` and `grism_header` attributes:"
   ]
  },
  {
   "cell_type": "code",
   "execution_count": null,
   "metadata": {},
   "outputs": [],
   "source": [
    "grism_obs.grism_image"
   ]
  },
  {
   "cell_type": "code",
   "execution_count": null,
   "metadata": {},
   "outputs": [],
   "source": [
    "grism_obs.grism_header"
   ]
  }
 ],
 "metadata": {
  "kernelspec": {
   "display_name": "Python 3",
   "language": "python",
   "name": "python3"
  },
  "language_info": {
   "codemirror_mode": {
    "name": "ipython",
    "version": 3
   },
   "file_extension": ".py",
   "mimetype": "text/x-python",
   "name": "python",
   "nbconvert_exporter": "python",
   "pygments_lexer": "ipython3",
   "version": "3.9.0"
  }
 },
 "nbformat": 4,
 "nbformat_minor": 4
}
